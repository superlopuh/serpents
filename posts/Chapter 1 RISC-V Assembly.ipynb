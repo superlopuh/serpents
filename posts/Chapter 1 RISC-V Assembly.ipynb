{
 "cells": [
  {
   "cell_type": "markdown",
   "metadata": {},
   "source": [
    "# Chapter 1: RISC-V Assembly\n",
    "\n",
    "[RISC-V](https://riscv.org/) is an [instruction set architecture](https://en.wikipedia.org/wiki/Instruction_set_architecture) designed to be simple and extensible.\n",
    "These design principles, as well as it being an open standard, made it a popular target for computer science research, and it's slowly picking up steam as a platform for personal computers and accelerators in industry.\n",
    "As part of my PhD, I am working on writing a compiler for neural networks targeting AI accelerators that extend the RISC-V ISA, with the neural networks and accelerator hardware developed by other partners in [CONVOLVE](https://convolve.eu/).\n",
    "\n",
    "This is the first of a series of blog posts describing how to write such a compiler in Python, using open-source frameworks such as [riscemu](https://github.com/antonlydike/riscemu) and [xDSL](https://xdsl.dev/)."
   ]
  },
  {
   "cell_type": "markdown",
   "metadata": {},
   "source": [
    "We'll start with a simple example of a program that prints \"Hello, World!\" in modified RISC-V assembly:\n",
    "\n",
    "```\n",
    "main:\n",
    "    printf \"Hello, World!\"\n",
    "    li  a7, 93\n",
    "    ecall\n",
    "```"
   ]
  },
  {
   "cell_type": "markdown",
   "metadata": {},
   "source": [
    "\n",
    "Let's walk through the above code line by line:\n",
    "\n",
    "```\n",
    "main:\n",
    "```\n",
    "\n",
    "Text followed by a colon is a label, in this case `main` is the name of our main function\n",
    "and entry point.\n",
    "\n",
    "```\n",
    "printf \"Hello World!\"\n",
    "```\n",
    "\n",
    "`printf` is a custom instruction in `riscemu`, our RISC-V emulator. It lets us easily\n",
    "inspect values in our registers. Usually, there are many more steps involved in printing\n",
    "text in real programs on operating systems, which are not very relevant to neural network\n",
    "compilation, so we'll use this shortcut here and in the rest of the series.\n",
    "\n",
    "```\n",
    "li a7, 93\n",
    "ecall\n",
    "```\n",
    "\n",
    "`ecall` is the instruction to call a syscall, and the syscall to call is specified by the\n",
    "value in `a7`.\n",
    "When that value is `93`, the program exits.\n",
    "[Here is a table](https://jborza.com/post/2021-05-11-riscv-linux-syscalls/) of the syscalls and their codes for Linux on RISC-V."
   ]
  },
  {
   "cell_type": "markdown",
   "metadata": {},
   "source": [
    "To run the assembly, we'll use a riscemu, a RISC-V emulator written in Python.\n",
    "Here's how we can use riscemu to execute the assembly above:"
   ]
  },
  {
   "cell_type": "code",
   "execution_count": 3,
   "metadata": {},
   "outputs": [
    {
     "name": "stdout",
     "output_type": "stream",
     "text": [
      "Hello, World!\n"
     ]
    }
   ],
   "source": [
    "from io import StringIO\n",
    "\n",
    "from riscemu.config import RunConfig\n",
    "from riscemu.instructions import RV32D, RV32F, RV32I, RV32M, RV_Debug\n",
    "from riscemu.riscemu_main import RiscemuMain, RiscemuSource\n",
    "\n",
    "# Initialise a riscemu instance with a default configuration\n",
    "main = RiscemuMain(RunConfig())\n",
    "# We'll use the following instruction sets for our emulation\n",
    "main.selected_ins_sets = [RV32I, RV32M, RV32F, RV32D, RV_Debug]\n",
    "# Allow assembly files to be passed to main\n",
    "main.register_all_program_loaders()\n",
    "\n",
    "code = \"\"\"\n",
    "main:\n",
    "    printf \"Hello, World!\"\n",
    "    li  a7, 93\n",
    "    ecall\n",
    "\"\"\"\n",
    "\n",
    "# Create a source for our assembly code\n",
    "source = RiscemuSource(\"example.asm\", StringIO(code))\n",
    "# Register the source with riscemu\n",
    "main.input_files.append(source)\n",
    "\n",
    "try:\n",
    "    # Execute our code\n",
    "    main.run()\n",
    "except Exception as ex:\n",
    "    # Print a pretty string representation in case of an error\n",
    "    print(ex)"
   ]
  },
  {
   "cell_type": "markdown",
   "metadata": {},
   "source": [
    "In the next post, we'll look at running numeric computations."
   ]
  },
  {
   "cell_type": "markdown",
   "metadata": {},
   "source": [
    "I am [Sasha Lopoukhine](lopoukhine.com), a PhD student at the University of Cambridge.\n",
    "You can contact me with your feedback at sasha@lopoukhine.com."
   ]
  },
  {
   "cell_type": "markdown",
   "metadata": {},
   "source": []
  }
 ],
 "metadata": {
  "kernelspec": {
   "display_name": ".venv",
   "language": "python",
   "name": "python3"
  },
  "language_info": {
   "codemirror_mode": {
    "name": "ipython",
    "version": 3
   },
   "file_extension": ".py",
   "mimetype": "text/x-python",
   "name": "python",
   "nbconvert_exporter": "python",
   "pygments_lexer": "ipython3",
   "version": "3.11.6"
  }
 },
 "nbformat": 4,
 "nbformat_minor": 2
}
