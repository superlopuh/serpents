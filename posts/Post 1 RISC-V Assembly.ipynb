{
 "cells": [
  {
   "cell_type": "markdown",
   "metadata": {},
   "source": [
    "# RISC-V Assembly\n",
    "\n",
    "[RISC-V](https://riscv.org/) is an [instruction set architecture](https://en.wikipedia.org/wiki/Instruction_set_architecture) designed to be simple and extensible.\n",
    "These design principles, as well as it being an open standard, made it a popular target for computer science research, and it's slowly picking up steam as a platform for personal computers and accelerators in industry.\n",
    "As part of my PhD, I am working on writing a compiler for neural networks targeting AI accelerators that extend the RISC-V ISA, with the neural networks and accelerator hardware developed by other partners in [CONVOLVE](https://convolve.eu/).\n",
    "This is the first of a series of blog posts describing how to write such a compiler in Python, using open-source frameworks such as [riscemu](https://github.com/antonlydike/riscemu) and [xDSL](https://xdsl.dev/)."
   ]
  },
  {
   "cell_type": "code",
   "execution_count": 1,
   "metadata": {},
   "outputs": [
    {
     "data": {
      "text/plain": [
       "2"
      ]
     },
     "execution_count": 1,
     "metadata": {},
     "output_type": "execute_result"
    }
   ],
   "source": [
    "s"
   ]
  },
  {
   "cell_type": "markdown",
   "metadata": {},
   "source": [
    "\n",
    "I am [Sasha Lopoukhine](lopoukhine.com), a PhD student at the University of Cambridge.\n",
    "You can contact me at sasha@lopoukhine.com."
   ]
  },
  {
   "cell_type": "markdown",
   "metadata": {},
   "source": []
  }
 ],
 "metadata": {
  "kernelspec": {
   "display_name": ".venv",
   "language": "python",
   "name": "python3"
  },
  "language_info": {
   "codemirror_mode": {
    "name": "ipython",
    "version": 3
   },
   "file_extension": ".py",
   "mimetype": "text/x-python",
   "name": "python",
   "nbconvert_exporter": "python",
   "pygments_lexer": "ipython3",
   "version": "3.11.6"
  }
 },
 "nbformat": 4,
 "nbformat_minor": 2
}
