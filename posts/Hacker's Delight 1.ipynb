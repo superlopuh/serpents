{
 "cells": [
  {
   "cell_type": "markdown",
   "metadata": {},
   "source": [
    "# Hacker's Delight Chapter 1"
   ]
  },
  {
   "cell_type": "markdown",
   "metadata": {},
   "source": [
    "## Exercise 1\n",
    "\n",
    "Express the loop `for (e1; e2; e3) statement` in terms of a `while` loop.\n",
    "Can it be expressed as a `do` loop?"
   ]
  },
  {
   "cell_type": "code",
   "execution_count": 1,
   "metadata": {},
   "outputs": [],
   "source": [
    "def for_while(e1, e2, e3, statement):\n",
    "    e1()\n",
    "    while e2():\n",
    "        statement()\n",
    "        e3()"
   ]
  },
  {
   "cell_type": "code",
   "execution_count": 2,
   "metadata": {},
   "outputs": [],
   "source": [
    "env = {}\n",
    "def s(key, val):\n",
    "    global env\n",
    "    env[key] = val\n",
    "def g(key):\n",
    "    global env\n",
    "    return env[key]"
   ]
  },
  {
   "cell_type": "code",
   "execution_count": 3,
   "metadata": {},
   "outputs": [
    {
     "name": "stdout",
     "output_type": "stream",
     "text": [
      "0\n",
      "1\n",
      "2\n",
      "3\n",
      "4\n",
      "5\n",
      "6\n",
      "7\n",
      "8\n",
      "9\n"
     ]
    }
   ],
   "source": [
    "for_while(\n",
    "    lambda: s(\"x\", 0),\n",
    "    lambda: g(\"x\") < 10,\n",
    "    lambda: s(\"x\", g(\"x\") + 1),\n",
    "    lambda: print(g(\"x\"))\n",
    ")"
   ]
  },
  {
   "cell_type": "code",
   "execution_count": 4,
   "metadata": {},
   "outputs": [],
   "source": [
    "def do_while(statement, expression):\n",
    "    while True:\n",
    "        statement()\n",
    "        if not expression():\n",
    "            break"
   ]
  },
  {
   "cell_type": "code",
   "execution_count": 5,
   "metadata": {},
   "outputs": [],
   "source": [
    "def for_do(e1, e2, e3, statement):\n",
    "    e1()\n",
    "    if not e2():\n",
    "        return\n",
    "    do_while(\n",
    "        lambda: (statement(), e3()),\n",
    "        e2\n",
    "    )"
   ]
  },
  {
   "cell_type": "code",
   "execution_count": 6,
   "metadata": {},
   "outputs": [
    {
     "name": "stdout",
     "output_type": "stream",
     "text": [
      "0\n",
      "1\n",
      "2\n",
      "3\n",
      "4\n",
      "5\n",
      "6\n",
      "7\n",
      "8\n",
      "9\n"
     ]
    }
   ],
   "source": [
    "for_do(\n",
    "    lambda: s(\"y\", 0),\n",
    "    lambda: g(\"y\") < 10,\n",
    "    lambda: s(\"y\", g(\"y\") + 1),\n",
    "    lambda: print(g(\"y\"))\n",
    ")"
   ]
  },
  {
   "cell_type": "markdown",
   "metadata": {},
   "source": [
    "## Exercise 2\n",
    "\n",
    "Code a loop in C in which the unsigned integer control variable i takes on all values from 0 to\n",
    "and including the maximum unsigned number, 0xFFFFFFFF (on a 32-bit machine)."
   ]
  },
  {
   "cell_type": "code",
   "execution_count": 7,
   "metadata": {},
   "outputs": [
    {
     "name": "stdout",
     "output_type": "stream",
     "text": [
      "c_uint(4294967280)\n",
      "c_uint(4294967281)\n",
      "c_uint(4294967282)\n",
      "c_uint(4294967283)\n",
      "c_uint(4294967284)\n",
      "c_uint(4294967285)\n",
      "c_uint(4294967286)\n",
      "c_uint(4294967287)\n",
      "c_uint(4294967288)\n",
      "c_uint(4294967289)\n",
      "c_uint(4294967290)\n",
      "c_uint(4294967291)\n",
      "c_uint(4294967292)\n",
      "c_uint(4294967293)\n",
      "c_uint(4294967294)\n",
      "c_uint(4294967295)\n"
     ]
    }
   ],
   "source": [
    "from ctypes import c_uint32\n",
    "\n",
    "\n",
    "def print_all(start: int = 0):\n",
    "    x = c_uint32(start)\n",
    "    print(x)\n",
    "    x = c_uint32(x.value + 1)\n",
    "    while x.value != 0:\n",
    "        print(x)\n",
    "        x = c_uint32(x.value + 1)\n",
    "\n",
    "print_all(0xFFFFFFF0)"
   ]
  },
  {
   "cell_type": "markdown",
   "metadata": {},
   "source": [
    "## Exercise 3\n",
    "\n",
    "For the more experienced reader: The instructions of the basic and full RISCs defined in this book can be executed with at most two register reads and one write. What are some common or plausible RISC instructions that either need more source operands or need to do more than one register write?"
   ]
  },
  {
   "cell_type": "markdown",
   "metadata": {},
   "source": [
    "FMADD, SWAP, CMOV"
   ]
  }
 ],
 "metadata": {
  "kernelspec": {
   "display_name": ".venv",
   "language": "python",
   "name": "python3"
  },
  "language_info": {
   "codemirror_mode": {
    "name": "ipython",
    "version": 3
   },
   "file_extension": ".py",
   "mimetype": "text/x-python",
   "name": "python",
   "nbconvert_exporter": "python",
   "pygments_lexer": "ipython3",
   "version": "3.11.6"
  }
 },
 "nbformat": 4,
 "nbformat_minor": 2
}
